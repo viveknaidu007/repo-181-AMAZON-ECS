{
 "cells": [
  {
   "cell_type": "markdown",
   "metadata": {},
   "source": [
    "# ECS : Elastic Container Service"
   ]
  },
  {
   "cell_type": "code",
   "execution_count": null,
   "metadata": {
    "vscode": {
     "languageId": "plaintext"
    }
   },
   "outputs": [],
   "source": [
    "* PAS : Service to Run Conatiner\n",
    "* Works as a Pay AS you go model\n",
    "* Service inAWS to RUN Containers At scale\n"
   ]
  },
  {
   "cell_type": "code",
   "execution_count": null,
   "metadata": {
    "vscode": {
     "languageId": "plaintext"
    }
   },
   "outputs": [],
   "source": [
    "#ECS can be operated in 2 ways :\n",
    "1. EC2 launch Type (manage your own Servers)\n",
    "2. Serverless (Fargage)"
   ]
  },
  {
   "cell_type": "code",
   "execution_count": null,
   "metadata": {
    "vscode": {
     "languageId": "plaintext"
    }
   },
   "outputs": [],
   "source": [
    " Amazon Elastic Container Service (Amazon ECS) is a highly scalable and fast container management service that makes it easy to run, stop, and manage containers on a cluster."
   ]
  },
  {
   "cell_type": "code",
   "execution_count": null,
   "metadata": {
    "vscode": {
     "languageId": "plaintext"
    }
   },
   "outputs": [],
   "source": [
    "* if ur businees wants to run on containers on the top of some container run time , then container service is option\n",
    "* \n",
    "ex :\n",
    "\n"
   ]
  },
  {
   "cell_type": "code",
   "execution_count": null,
   "metadata": {
    "vscode": {
     "languageId": "plaintext"
    }
   },
   "outputs": [],
   "source": [
    "1.creeate cluster\n",
    "\n",
    "2. click on task definitions\n",
    "we can select 2 thins here :\n",
    "* EC2 \n",
    "* AWS FArgate(serverless)\n",
    "and we can give requiremnents of cpu and memory\n",
    "\n"
   ]
  }
 ],
 "metadata": {
  "language_info": {
   "name": "python"
  }
 },
 "nbformat": 4,
 "nbformat_minor": 2
}
